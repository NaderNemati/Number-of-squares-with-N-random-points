{
  "nbformat": 4,
  "nbformat_minor": 0,
  "metadata": {
    "colab": {
      "name": "SquaresProblem.ipynb",
      "provenance": [],
      "collapsed_sections": []
    },
    "kernelspec": {
      "name": "python3",
      "display_name": "Python 3"
    },
    "language_info": {
      "name": "python"
    }
  },
  "cells": [
    {
      "cell_type": "code",
      "source": [
        "# necessary libraries\n",
        "import random\n",
        "import numpy as np\n",
        "# Counting the number of possible sqares by N random points\n",
        "def number_Squares(X, Y, N) :\n",
        "\n",
        "\t# Definition of required variables\n",
        "\tcount = 0;\n",
        "\tpoints = [];\n",
        "\tV = dict.fromkeys(X, None);\n",
        "\n",
        "\t# X cordinate and Y cordinate of each (X, Y) point, are at two separate lists. Therefore, we must attached them per index \n",
        "\tfor i in range(N):\n",
        "\t\tpoints.append((X[i], Y[i]));\n",
        "\n",
        "\t# Assigning Y cordinate of each elements of X per index, at the V dictionary. \n",
        "\tfor i in range(N):\n",
        "\t\tif V[X[i]] is None:\n",
        "\t\t\tV[X[i]] = [Y[i]];\n",
        "\t\telse :\n",
        "\t\t\tV[X[i]].append(Y[i]);\n",
        "\n",
        "\t# Check for every two points to find other two points to form a square by sorting elements of X and dynamic programming. \n",
        "\tfor t in V:\n",
        "\t\tX1 = t;\n",
        "\t\tList = V[t];\n",
        "\n",
        "\t\tfor i in range(len(List)):\n",
        "\t\t\tY1 = List[i];\n",
        "\t\t\tfor j in range(i + 1, len(List)):\n",
        "\t\t\t\tY2 = List[j];\n",
        "\t\t\t\tside = abs(Y1 - Y2);\n",
        "\t\t\t\tX2 = X1 + side;\n",
        "\t\t\t\t# Check if other two point are at the plane, therefore add to number of squares by 1. \n",
        "\t\t\t\tif ( X2, Y1 ) in points and ( X1, Y2 ) in points:\n",
        "\t\t\t\t\tcount += 1;\n",
        "\n",
        "\treturn count;"
      ],
      "metadata": {
        "id": "EXElheJqpxUd"
      },
      "execution_count": 1,
      "outputs": []
    },
    {
      "cell_type": "markdown",
      "source": [
        "# **Simple run for the problem with 9 particular points**"
      ],
      "metadata": {
        "id": "1AGD0NbF-TPO"
      }
    },
    {
      "cell_type": "code",
      "source": [
        "Xpoints = [0, 2, 0, 2, 4, 4 ,2, 0, 4]\n",
        "Ypoints = [0, 2, 2, 0, 2, 0, 4, 4, 4]\n",
        "\n",
        "N = len(Xpoints)\n",
        "print(Xpoints)\n",
        "print(Ypoints)\n",
        "\n",
        "print('The number of squares with', N ,'points:')\n",
        "print(number_Squares(Xpoints, Ypoints, N))"
      ],
      "metadata": {
        "colab": {
          "base_uri": "https://localhost:8080/"
        },
        "id": "AK0D64TiFzZz",
        "outputId": "0724f32a-0fb6-4229-df5b-9c8899d1819a"
      },
      "execution_count": 2,
      "outputs": [
        {
          "output_type": "stream",
          "name": "stdout",
          "text": [
            "[0, 2, 0, 2, 4, 4, 2, 0, 4]\n",
            "[0, 2, 2, 0, 2, 0, 4, 4, 4]\n",
            "The number of squares with 9 points:\n",
            "5\n"
          ]
        }
      ]
    },
    {
      "cell_type": "markdown",
      "source": [
        "\n",
        "# **The original run of for code for several random points**"
      ],
      "metadata": {
        "id": "ikY1fcpv-xis"
      }
    },
    {
      "cell_type": "code",
      "source": [
        "# The number of points\n",
        "N = int(input(\"Please enter the number of points: \"))\n",
        "# Generating random points equal to the lenghth N\n",
        "Xaxis, Yaxis= [], []\n",
        "def random_array(N):\n",
        "  for i in range(0, N):\n",
        "    Xaxis.append(random.randint(0,9))\n",
        "    Yaxis.append(random.randint(0,9))\n",
        " \n",
        "  return Xaxis, Yaxis\n",
        "\n",
        "X, Y = random_array(N)\n",
        "\n",
        "print(X)\n",
        "print('------------------------------------------------------------------------------------------------------------------------------------------------------')\n",
        "print(Y)\n",
        "print('######################################################################################################################################3###############')\n",
        "print('######################################################################################################################################################')\n",
        "print('The number of squares with', N, 'points:')\n",
        "print(number_Squares(X, Y, N))"
      ],
      "metadata": {
        "id": "2KpYZd6EKVAg",
        "colab": {
          "base_uri": "https://localhost:8080/"
        },
        "outputId": "95c6ebe8-0ba1-493c-8bfc-cfff1eccaf62"
      },
      "execution_count": 3,
      "outputs": [
        {
          "output_type": "stream",
          "name": "stdout",
          "text": [
            "Please enter the number of points: 50\n",
            "[6, 2, 9, 8, 2, 8, 8, 2, 1, 1, 7, 5, 1, 5, 6, 5, 4, 0, 1, 8, 3, 0, 9, 2, 6, 2, 8, 1, 0, 8, 7, 7, 8, 5, 0, 6, 1, 9, 4, 5, 2, 1, 8, 3, 3, 8, 9, 2, 6, 8]\n",
            "------------------------------------------------------------------------------------------------------------------------------------------------------\n",
            "[4, 6, 8, 8, 5, 0, 4, 3, 6, 4, 1, 8, 6, 3, 2, 5, 9, 4, 0, 8, 2, 4, 5, 5, 5, 0, 1, 2, 7, 6, 7, 6, 2, 1, 6, 4, 4, 4, 7, 7, 3, 1, 5, 8, 8, 9, 1, 1, 7, 3]\n",
            "######################################################################################################################################3###############\n",
            "######################################################################################################################################################\n",
            "The number of squares with 50 points:\n",
            "29\n"
          ]
        }
      ]
    },
    {
      "cell_type": "code",
      "source": [
        ""
      ],
      "metadata": {
        "id": "k13Yy13PxpAX"
      },
      "execution_count": null,
      "outputs": []
    }
  ]
}